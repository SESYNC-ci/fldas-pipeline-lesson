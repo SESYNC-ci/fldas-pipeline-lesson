{
 "cells": [
  {
   "cell_type": "markdown",
   "metadata": {},
   "source": [
    "## OPeNDAP Server/Client "
   ]
  },
  {
   "cell_type": "code",
   "execution_count": 1,
   "metadata": {},
   "outputs": [],
   "source": [
    "dap = 'https://hydro1.gesdisc.eosdis.nasa.gov/opendap/hyrax/FLDAS/'\n",
    "resource = 'FLDAS_NOAH01_C_SA_MA.001/2013/FLDAS_NOAH01_C_SA_MA.ANOM201301.001.nc'\n",
    "url = dap + resource"
   ]
  },
  {
   "cell_type": "code",
   "execution_count": null,
   "metadata": {},
   "outputs": [],
   "source": [
    "...\n",
    "username, _, password = netrc().hosts['urs.earthdata.nasa.gov']"
   ]
  },
  {
   "cell_type": "code",
   "execution_count": null,
   "metadata": {},
   "outputs": [],
   "source": [
    "from pydap.client import ...\n",
    "from pydap.cas.urs import ...\n",
    "\n",
    "session = setup_session(username, password, check_url = url)\n",
    "... = open_url(..., session = session)"
   ]
  },
  {
   "cell_type": "code",
   "execution_count": null,
   "metadata": {},
   "outputs": [],
   "source": [
    "varname = ...\n",
    "variable = dataset[varname]\n",
    "variable.shape"
   ]
  },
  {
   "cell_type": "code",
   "execution_count": null,
   "metadata": {},
   "outputs": [],
   "source": [
    "data = ...\n",
    "dims = {k: v.data for k, v in var.maps.items()}\n",
    "nodata = dataset.attributes['NC_GLOBAL']['missing_value']"
   ]
  },
  {
   "cell_type": "markdown",
   "metadata": {},
   "source": [
    "## Data Alignment "
   ]
  },
  {
   "cell_type": "code",
   "execution_count": null,
   "metadata": {},
   "outputs": [],
   "source": [
    "...\n",
    "\n",
    "data = np.flip(data, 1).astype('float32')\n",
    "nodata = data.dtype.type(nodata)"
   ]
  },
  {
   "cell_type": "code",
   "execution_count": null,
   "metadata": {},
   "outputs": [],
   "source": [
    "...\n",
    "\n",
    "meta = {\n",
    "    'driver': 'GTiff',\n",
    "    'dtype': data.dtype,\n",
    "    'count': ...,\n",
    "    'height': ...,\n",
    "    'width': ...,\n",
    "    'nodata': nodata,\n",
    "}\n",
    "with raster(varname + '.tif', ..., **meta) as r:\n",
    "    r.write(data[0, :, :], 1)"
   ]
  },
  {
   "cell_type": "code",
   "execution_count": null,
   "metadata": {},
   "outputs": [],
   "source": [
    "from rasterio.plot import show\n",
    "\n",
    "with raster(varname + '.tif') as r:\n",
    "    show(r.read(1, masked = True))"
   ]
  },
  {
   "cell_type": "code",
   "execution_count": null,
   "metadata": {},
   "outputs": [],
   "source": [
    "from rasterio.crs import ...\n",
    "from rasterio.transform import ...\n",
    "\n",
    "crs = CRS.from_epsg(...) # a guess!\n",
    "attr = dataset.attributes['NC_GLOBAL']\n",
    "transform = from_origin(\n",
    "    dims['lon'][0].item(), # west\n",
    "    dims['lat'][-1].item(), # north (flip!)\n",
    "    attr['DX'], # xsize\n",
    "    attr['DY']) # ysize"
   ]
  },
  {
   "cell_type": "code",
   "execution_count": null,
   "metadata": {},
   "outputs": [],
   "source": [
    "...({\n",
    "    'crs': crs,\n",
    "    'transform': transform,\n",
    "})\n",
    "with raster(varname + '.tif', 'w', **meta) as r:\n",
    "    r.write(data[0, :, :], 1)"
   ]
  },
  {
   "cell_type": "code",
   "execution_count": null,
   "metadata": {},
   "outputs": [],
   "source": [
    "with raster(varname + '.tif') as r:\n",
    "    show((r, 1))"
   ]
  },
  {
   "cell_type": "code",
   "execution_count": null,
   "metadata": {},
   "outputs": [],
   "source": [
    "import geopandas as gpd\n",
    "fig, ax = plt.subplots()\n",
    "\n",
    "basin = ...(\n",
    "    '/data/Aqueduct_river_basins_LIMPOPO')\n",
    "with raster(varname + '.tif') as r:\n",
    "    show((r, 1), ax = ax)\n",
    "basin.plot(...,\n",
    "    color='none', edgecolor = 'black')"
   ]
  },
  {
   "cell_type": "markdown",
   "metadata": {},
   "source": [
    "## Subsetted Requests "
   ]
  },
  {
   "cell_type": "code",
   "execution_count": null,
   "metadata": {},
   "outputs": [],
   "source": [
    "from rasterio.mask import ...\n",
    "from shapely.geometry import mapping\n",
    "\n",
    "feature = [mapping(g) for g in basin['geometry']]\n",
    "with raster(varname + '.tif') as r:\n",
    "    ... = mask(r, feature)\n",
    "    meta = r.meta.copy()"
   ]
  },
  {
   "cell_type": "code",
   "execution_count": null,
   "metadata": {},
   "outputs": [],
   "source": [
    "with raster(varname + '_basin.tif', 'w', **meta) as r:\n",
    "    r.write(masked)"
   ]
  },
  {
   "cell_type": "code",
   "execution_count": null,
   "metadata": {},
   "outputs": [],
   "source": [
    "from rasterio.windows import ...\n",
    "\n",
    "with raster(varname + '_basin.tif') as r:\n",
    "    var = r.read(1, masked = True)\n",
    "\n",
    "y, x = get_data_window(var)\n",
    "basin = var.mask[slice(*y), slice(*x)]"
   ]
  },
  {
   "cell_type": "code",
   "execution_count": null,
   "metadata": {},
   "outputs": [],
   "source": [
    "y = variable.shape[1] - y[1], variable.shape[1] - y[0]\n",
    "var = variable[:, slice(*y), slice(*x)]\n",
    "show(var)"
   ]
  },
  {
   "cell_type": "markdown",
   "metadata": {},
   "source": [
    "## Loop though Time"
   ]
  },
  {
   "cell_type": "code",
   "execution_count": null,
   "metadata": {},
   "outputs": [],
   "source": [
    "from pandas import Series\n",
    "basin_ts = Series(index = [[],[]])\n",
    "\n",
    "name = 'FLDAS_NOAH01_C_SA_MA'\n",
    "resource = '{0}.001/{1}/{0}.ANOM{1}{2:02d}.001.nc'    \n",
    "\n",
    "yr = 2016\n",
    "mo = 0\n",
    "while True:\n",
    "\n",
    "    # connect to resource\n",
    "    # for year and month\n",
    "    url = dap + resource.format(name, yr, mo + 1)\n",
    "    try:\n",
    "        dataset = open_url(url,\n",
    "            session = session)\n",
    "    except:\n",
    "        break\n",
    "    \n",
    "    # request data subset\n",
    "    # and store masked mean\n",
    "    variable = dataset[varname]\n",
    "    var = variable[:, slice(*y), slice(*x)]\n",
    "    data = np.flip(var.array.data, 1)\n",
    "    data = np.ma.array(\n",
    "        data,\n",
    "        mask = basin)\n",
    "    basin_ts[yr, mo + 1] = data.mean()\n",
    "    \n",
    "    # increment month and year\n",
    "    mo = (mo + 1) % 12\n",
    "    yr = yr + 1 if mo == 0 else yr"
   ]
  }
 ],
 "metadata": {
  "kernelspec": {
   "display_name": "Python 3",
   "language": "python",
   "name": "python3"
  },
  "language_info": {
   "codemirror_mode": {
    "name": "ipython",
    "version": 3
   },
   "file_extension": ".py",
   "mimetype": "text/x-python",
   "name": "python",
   "nbconvert_exporter": "python",
   "pygments_lexer": "ipython3",
   "version": "3.5.3"
  }
 },
 "nbformat": 4,
 "nbformat_minor": 2
}
